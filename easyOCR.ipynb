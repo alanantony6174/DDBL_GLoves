{
 "cells": [
  {
   "cell_type": "code",
   "execution_count": 1,
   "id": "dc2d7358",
   "metadata": {},
   "outputs": [],
   "source": [
    "import cv2\n",
    "import easyocr"
   ]
  },
  {
   "cell_type": "code",
   "execution_count": 2,
   "id": "e33d1730",
   "metadata": {},
   "outputs": [
    {
     "name": "stderr",
     "output_type": "stream",
     "text": [
      "CUDA not available - defaulting to CPU. Note: This module is much faster with a GPU.\n",
      "C:\\Users\\alana\\anaconda3\\lib\\site-packages\\torchvision\\models\\_utils.py:252: UserWarning: Accessing the model URLs via the internal dictionary of the module is deprecated since 0.13 and may be removed in the future. Please access them via the appropriate Weights Enum instead.\n",
      "  warnings.warn(\n",
      "C:\\Users\\alana\\anaconda3\\lib\\site-packages\\torchvision\\models\\_utils.py:208: UserWarning: The parameter 'pretrained' is deprecated since 0.13 and may be removed in the future, please use 'weights' instead.\n",
      "  warnings.warn(\n",
      "C:\\Users\\alana\\anaconda3\\lib\\site-packages\\torchvision\\models\\_utils.py:223: UserWarning: Arguments other than a weight enum or `None` for 'weights' are deprecated since 0.13 and may be removed in the future. The current behavior is equivalent to passing `weights=None`.\n",
      "  warnings.warn(msg)\n"
     ]
    }
   ],
   "source": [
    "reader = easyocr.Reader(['en'])\n",
    "\n",
    "def rec():\n",
    "   \n",
    "    font = cv2.FONT_HERSHEY_SIMPLEX\n",
    "    out=''\n",
    "    cam = cv2.VideoCapture(0)\n",
    "    cam.set(3, 640) # set video widht\n",
    "    cam.set(4, 480) # set video height\n",
    "\n",
    "    minW = 0.1*cam.get(3)\n",
    "    minH = 0.1*cam.get(4)\n",
    "    while True:\n",
    "        ret, img =cam.read()\n",
    "        \n",
    "        k = cv2.waitKey(1) & 0xff \n",
    "        if(k == ord(\"c\")):\n",
    "            cv2.imwrite(\"temp.png\",img)\n",
    "            result = reader.readtext(\"temp.png\",paragraph=\"False\")\n",
    "            \n",
    "            for i in range(len(result)):\n",
    "                out=out+' '+result[i][1]\n",
    "            print(out)\n",
    "        cv2.putText(img, out, (15,430), font, 1, (0,255,0), 2)  \n",
    "        cv2.putText(img, \"Press ok to read text\", (15,35), font, 1, (255,0,0), 2)\n",
    "        cv2.imshow('camera',img) \n",
    "        k = cv2.waitKey(1) & 0xff\n",
    "        if(k == 27):\n",
    "            break\n",
    "\n",
    "    cam.release()\n",
    "    cv2.destroyAllWindows()\n",
    "\n"
   ]
  },
  {
   "cell_type": "code",
   "execution_count": 3,
   "id": "3a1b542c",
   "metadata": {},
   "outputs": [],
   "source": [
    "rec()"
   ]
  },
  {
   "cell_type": "code",
   "execution_count": null,
   "id": "9e5d4083",
   "metadata": {},
   "outputs": [],
   "source": []
  },
  {
   "cell_type": "code",
   "execution_count": null,
   "id": "19724142",
   "metadata": {},
   "outputs": [],
   "source": []
  }
 ],
 "metadata": {
  "kernelspec": {
   "display_name": "Python 3 (ipykernel)",
   "language": "python",
   "name": "python3"
  },
  "language_info": {
   "codemirror_mode": {
    "name": "ipython",
    "version": 3
   },
   "file_extension": ".py",
   "mimetype": "text/x-python",
   "name": "python",
   "nbconvert_exporter": "python",
   "pygments_lexer": "ipython3",
   "version": "3.9.13"
  }
 },
 "nbformat": 4,
 "nbformat_minor": 5
}
