{
 "cells": [
  {
   "cell_type": "code",
   "execution_count": 3,
   "id": "fc01176c",
   "metadata": {},
   "outputs": [],
   "source": [
    "import face_recognition\n",
    "import pyttsx3\n",
    "\n",
    "engine = pyttsx3.init()"
   ]
  },
  {
   "cell_type": "code",
   "execution_count": 4,
   "id": "6c35d0d5",
   "metadata": {},
   "outputs": [],
   "source": [
    "dataset_loc=\"dataset\"\n",
    "name_list=[]"
   ]
  },
  {
   "cell_type": "code",
   "execution_count": 5,
   "id": "02008ad5",
   "metadata": {},
   "outputs": [],
   "source": [
    "def SpeakText(command): \n",
    "    engine.say(command) \n",
    "    engine.runAndWait() "
   ]
  },
  {
   "cell_type": "code",
   "execution_count": null,
   "id": "9189e4d7",
   "metadata": {},
   "outputs": [],
   "source": [
    "train_encode=[]\n",
    "for i in os.listdir(dataset_loc):\n",
    "    img=face_recognition.load_image_file(os.path.join(dataset_loc,i))\n",
    "    img = cv2.cvtColor(img,cv2.COLOR_BGR2RGB)\n",
    "    face = face_recognition.face_locations(img)\n",
    "    train_encode.append(face_recognition.face_encodings(img,face)[0])"
   ]
  },
  {
   "cell_type": "code",
   "execution_count": null,
   "id": "16191601",
   "metadata": {},
   "outputs": [],
   "source": [
    "cap=cv2.VideoCapture(0)\n",
    "while 1:\n",
    "    ret,frame=cap.read()\n",
    "    if ret:\n",
    "            test = cv2.cvtColor(frame, cv2.COLOR_BGR2RGB)\n",
    "            face = face_recognition.face_locations(test)\n",
    "            test_encode = face_recognition.face_encodings(test,face)\n",
    "            for j in range(len(test_encode)):\n",
    "                face_encoding=test_encode[j]\n",
    "                y=face_recognition.compare_faces(train_encode,face_encoding)\n",
    "                if True in y:\n",
    "                    i=y.index(True)\n",
    "                    name=name_list[i]\n",
    "                    for (top, right, bottom, left) in [face[j]]:\n",
    "                        y = top - 15 if top - 15 > 15 else top + 15\n",
    "                        cv2.rectangle(frame, (left, top), (right, bottom),(0, 255, 0), 2)\n",
    "                        cv2.putText(frame, name, (left, y), cv2.FONT_HERSHEY_SIMPLEX,0.75, (0, 255, 0), 2)\n",
    "                else:\n",
    "                    name=\"unknown\"\n",
    "                    for (top, right, bottom, left) in [face[j]]:\n",
    "                        y = top - 15 if top - 15 > 15 else top + 15\n",
    "                        cv2.rectangle(frame, (left, top), (right, bottom),(0, 255, 0), 2)\n",
    "                        cv2.putText(frame, name, (left, y), cv2.FONT_HERSHEY_SIMPLEX,0.75, (0, 255, 0), 2)\n",
    "            cv2.imshow('output', frame)\n",
    "    key = cv2.waitKey(1) & 0xFF\n",
    "    if key==ord('q'):\n",
    "        break\n",
    "        \n",
    "\n",
    "cv2.destroyAllWindows()\n",
    "cap.release()"
   ]
  }
 ],
 "metadata": {
  "kernelspec": {
   "display_name": "Python 3 (ipykernel)",
   "language": "python",
   "name": "python3"
  },
  "language_info": {
   "codemirror_mode": {
    "name": "ipython",
    "version": 3
   },
   "file_extension": ".py",
   "mimetype": "text/x-python",
   "name": "python",
   "nbconvert_exporter": "python",
   "pygments_lexer": "ipython3",
   "version": "3.9.13"
  }
 },
 "nbformat": 4,
 "nbformat_minor": 5
}
