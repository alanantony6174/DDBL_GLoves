{
 "cells": [
  {
   "cell_type": "code",
   "execution_count": 9,
   "id": "f99e3ff9",
   "metadata": {},
   "outputs": [],
   "source": [
    "import speech_recognition as sr\n",
    "import face_recognition\n",
    "import os\n",
    "import cv2\n",
    "import easyocr\n",
    "import requests\n",
    "import time\n",
    "import pyttsx3"
   ]
  },
  {
   "cell_type": "code",
   "execution_count": 10,
   "id": "20501a92",
   "metadata": {},
   "outputs": [
    {
     "name": "stdout",
     "output_type": "stream",
     "text": [
      "alan.jpg\n",
      "amal.jpg\n",
      "lamiya.jpg\n"
     ]
    },
    {
     "name": "stderr",
     "output_type": "stream",
     "text": [
      "CUDA not available - defaulting to CPU. Note: This module is much faster with a GPU.\n"
     ]
    }
   ],
   "source": [
    "r = sr.Recognizer()\n",
    "\n",
    "dataset_loc=\"dataset\"\n",
    "name_list=[\"alan\",\"amal\",\"lamiya\"]\n",
    "\n",
    "train_encode=[]\n",
    "for i in os.listdir(dataset_loc):\n",
    "    print(i)\n",
    "    img=face_recognition.load_image_file(os.path.join(dataset_loc,i))\n",
    "    img = cv2.cvtColor(img,cv2.COLOR_BGR2RGB)\n",
    "    face = face_recognition.face_locations(img)\n",
    "    train_encode.append(face_recognition.face_encodings(img,face)[0])\n",
    "\n",
    "reader = easyocr.Reader(['en'])\n",
    "\n",
    "engine = pyttsx3.init()\n",
    "\n",
    "def SpeakText(command): \n",
    "    engine.say(command) \n",
    "    engine.runAndWait() "
   ]
  },
  {
   "cell_type": "code",
   "execution_count": 11,
   "id": "ab11a950",
   "metadata": {
    "scrolled": false
   },
   "outputs": [],
   "source": [
    "response = requests.get(\"https://api.thingspeak.com/channels/1643926/fields/1/last.txt?api_key=0PS860IUG6BSKWQW\")\n",
    "if response.status_code == 200:\n",
    "    prev_data = response.text"
   ]
  },
  {
   "cell_type": "code",
   "execution_count": 12,
   "id": "1e4d3d05",
   "metadata": {},
   "outputs": [],
   "source": [
    "def stt():\n",
    "    MyText=\"notext\"\n",
    "    while 1:\n",
    "        try:\n",
    "            with sr.Microphone() as source2:\n",
    "                print(\"listening....\")\n",
    "                r.adjust_for_ambient_noise(source2, duration=0.2)\n",
    "                audio2 = r.listen(source2)\n",
    "                MyText = r.recognize_google(audio2)\n",
    "                MyText = MyText.lower()\n",
    "                print(\"did you say \"+MyText)\n",
    "                return MyText\n",
    "                \n",
    "        except sr.RequestError as e:\n",
    "            print(\"Could not request results; {0}\".format(e))\n",
    "\n",
    "        #except sr.UnknownValueError:\n",
    "            print(\"please speak louder\")\n",
    "        except:\n",
    "            print(\"say some thing\")"
   ]
  },
  {
   "cell_type": "code",
   "execution_count": 13,
   "id": "bd1bf273",
   "metadata": {},
   "outputs": [],
   "source": [
    "def rc_face(train_encode):\n",
    "    cap=cv2.VideoCapture(0)\n",
    "    name=\"i\"\n",
    "    while 1:\n",
    "        ret,frame=cap.read()\n",
    "        print(ret)\n",
    "        if ret:\n",
    "                test = cv2.cvtColor(frame, cv2.COLOR_BGR2RGB)\n",
    "                face = face_recognition.face_locations(test)\n",
    "                test_encode = face_recognition.face_encodings(test,face)\n",
    "                if len(test_encode)!=0:\n",
    "                    for j in range(len(test_encode)):\n",
    "                        face_encoding=test_encode[j]\n",
    "                        y=face_recognition.compare_faces(train_encode,face_encoding)\n",
    "                        if True in y:\n",
    "                            i=y.index(True)\n",
    "                            name=name_list[i]\n",
    "                            for (top, right, bottom, left) in [face[j]]:\n",
    "                                y = top - 15 if top - 15 > 15 else top + 15\n",
    "                                cv2.rectangle(frame, (left, top), (right, bottom),(0, 255, 0), 2)\n",
    "                                cv2.putText(frame, name, (left, y), cv2.FONT_HERSHEY_SIMPLEX,0.75, (0, 255, 0), 2)\n",
    "                        else:\n",
    "                            name=\"unknown\"\n",
    "\n",
    "                            for (top, right, bottom, left) in [face[j]]:\n",
    "                                y = top - 15 if top - 15 > 15 else top + 15\n",
    "                                cv2.rectangle(frame, (left, top), (right, bottom),(0, 255, 0), 2)\n",
    "                                cv2.putText(frame, name, (left, y), cv2.FONT_HERSHEY_SIMPLEX,0.75, (0, 255, 0), 2)\n",
    "                    #cv2.imshow('output', frame)\n",
    "                    break\n",
    "                    \n",
    "    cv2.destroyAllWindows()\n",
    "    cap.release()\n",
    "    return name\n",
    "    "
   ]
  },
  {
   "cell_type": "code",
   "execution_count": 14,
   "id": "78bb8d06",
   "metadata": {},
   "outputs": [],
   "source": [
    "def read_ocr():\n",
    "    frame_count=0\n",
    "    font = cv2.FONT_HERSHEY_SIMPLEX\n",
    "    out='i'\n",
    "    cam = cv2.VideoCapture(0)\n",
    "    cam.set(3, 640) # set video widht\n",
    "    cam.set(4, 480) # set video height\n",
    "\n",
    "    minW = 0.1*cam.get(3)\n",
    "    minH = 0.1*cam.get(4)\n",
    "    while True:\n",
    "        ret, img =cam.read()\n",
    "        out=\"\"\n",
    "        k = cv2.waitKey(1) & 0xff \n",
    "        frame_count=frame_count+1\n",
    "        if frame_count>20:\n",
    "            cv2.imwrite(\"temp.png\",img)\n",
    "            result = reader.readtext(\"temp.png\",paragraph=\"False\")    \n",
    "            for i in range(len(result)):\n",
    "                out=out+' '+result[i][1] \n",
    "            cam.release()\n",
    "            cv2.destroyAllWindows()\n",
    "            break\n",
    "            #cv2.imshow(\"img\",img)\n",
    "        k = cv2.waitKey(1) & 0xff\n",
    "        if(k == 27):\n",
    "            break \n",
    "    return out"
   ]
  },
  {
   "cell_type": "code",
   "execution_count": 15,
   "id": "67c25811",
   "metadata": {},
   "outputs": [],
   "source": [
    "def upload_data(data):\n",
    "    string_data=\"https://api.thingspeak.com/update?api_key=2F42O2307AJB340Q&field1=\"+data\n",
    "    response = requests.get(string_data)\n",
    "    if response.status_code == 200:\n",
    "        data = response.text\n",
    "        print(\"data uploaded\",data)\n",
    "    else:\n",
    "        print(f'Request failed with status code {response.status_code}')"
   ]
  },
  {
   "cell_type": "code",
   "execution_count": null,
   "id": "2cacefab",
   "metadata": {},
   "outputs": [],
   "source": [
    "while 1:\n",
    "    response = requests.get(\"https://api.thingspeak.com/channels/2051832/fields/1/last.txt?api_key=L3RUCHGDTZ2T1JQZ\")\n",
    "    if response.status_code == 200:\n",
    "        data = response.text\n",
    "        print(data)\n",
    "        if data!=prev_data:\n",
    "            if data==\"A\":\n",
    "                read_line=read_ocr()\n",
    "                if read_line!=\"i\":\n",
    "                    print(read_line)\n",
    "                    SpeakText(read_line)\n",
    "                    upload_data(read_line)\n",
    "            elif data == \"B\":\n",
    "                person=rc_face(train_encode)\n",
    "                print(person)\n",
    "                if person == \"unknown\":\n",
    "                    SpeakText(\"there is an unknown person\")\n",
    "                    upload_data(person)\n",
    "                else:\n",
    "                    SpeakText(person)\n",
    "                    upload_data(person)\n",
    "            elif data== \"C\":\n",
    "                tt=stt()\n",
    "                if tt != \"notext\":\n",
    "                    print(tt)\n",
    "                    SpeakText(tt)\n",
    "                    upload_data(tt)\n",
    "            elif data== \"D\":\n",
    "                SpeakText(\"My name is Alan\")\n",
    "                upload_data(\"My name is Alan\")\n",
    "            elif data== \"H\":\n",
    "                SpeakText(\"Hello\")\n",
    "                upload_data(\"Hello\")\n",
    "            elif data== \"G\":\n",
    "                SpeakText(\"Good Morning\")\n",
    "                upload_data(\"Good Morning\")\n",
    "            elif data== \"L\":\n",
    "                SpeakText(\"i love you\")\n",
    "                upload_data(\"i love you\")\n",
    "            elif data== \"E\":\n",
    "                pass\n",
    "\n",
    "        prev_data=data\n",
    "                \n",
    "    else:\n",
    "        print(f'Request failed with status code {response.status_code}')\n",
    "    time.sleep(1)"
   ]
  },
  {
   "cell_type": "code",
   "execution_count": null,
   "id": "b3b4fa0d",
   "metadata": {},
   "outputs": [],
   "source": []
  },
  {
   "cell_type": "code",
   "execution_count": null,
   "id": "814976bc",
   "metadata": {},
   "outputs": [],
   "source": [
    "\n",
    "\n",
    "\n",
    "\n",
    "\n",
    "\n",
    "\n"
   ]
  },
  {
   "cell_type": "code",
   "execution_count": null,
   "id": "0806013a",
   "metadata": {},
   "outputs": [],
   "source": []
  }
 ],
 "metadata": {
  "kernelspec": {
   "display_name": "Python 3 (ipykernel)",
   "language": "python",
   "name": "python3"
  },
  "language_info": {
   "codemirror_mode": {
    "name": "ipython",
    "version": 3
   },
   "file_extension": ".py",
   "mimetype": "text/x-python",
   "name": "python",
   "nbconvert_exporter": "python",
   "pygments_lexer": "ipython3",
   "version": "3.9.13"
  }
 },
 "nbformat": 4,
 "nbformat_minor": 5
}
