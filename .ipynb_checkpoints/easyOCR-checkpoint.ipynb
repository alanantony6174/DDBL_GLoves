{
 "cells": [
  {
   "cell_type": "code",
   "execution_count": 1,
   "id": "dc2d7358",
   "metadata": {},
   "outputs": [
    {
     "ename": "ModuleNotFoundError",
     "evalue": "No module named 'easyocr'",
     "output_type": "error",
     "traceback": [
      "\u001b[1;31m---------------------------------------------------------------------------\u001b[0m",
      "\u001b[1;31mModuleNotFoundError\u001b[0m                       Traceback (most recent call last)",
      "\u001b[1;32m~\\AppData\\Local\\Temp\\ipykernel_13912\\4028572826.py\u001b[0m in \u001b[0;36m<module>\u001b[1;34m\u001b[0m\n\u001b[0;32m      1\u001b[0m \u001b[1;32mimport\u001b[0m \u001b[0mcv2\u001b[0m\u001b[1;33m\u001b[0m\u001b[1;33m\u001b[0m\u001b[0m\n\u001b[1;32m----> 2\u001b[1;33m \u001b[1;32mimport\u001b[0m \u001b[0measyocr\u001b[0m\u001b[1;33m\u001b[0m\u001b[1;33m\u001b[0m\u001b[0m\n\u001b[0m",
      "\u001b[1;31mModuleNotFoundError\u001b[0m: No module named 'easyocr'"
     ]
    }
   ],
   "source": [
    "import cv2\n",
    "import easyocr"
   ]
  },
  {
   "cell_type": "code",
   "execution_count": null,
   "id": "e94501bb",
   "metadata": {},
   "outputs": [],
   "source": [
    "!pip3 install torch"
   ]
  },
  {
   "cell_type": "code",
   "execution_count": 2,
   "id": "e33d1730",
   "metadata": {},
   "outputs": [
    {
     "name": "stderr",
     "output_type": "stream",
     "text": [
      "CUDA not available - defaulting to CPU. Note: This module is much faster with a GPU.\n"
     ]
    }
   ],
   "source": [
    "reader = easyocr.Reader(['en'])\n",
    "\n",
    "def rec():\n",
    "   \n",
    "    font = cv2.FONT_HERSHEY_SIMPLEX\n",
    "    out=''\n",
    "    cam = cv2.VideoCapture(0)\n",
    "    cam.set(3, 640) # set video widht\n",
    "    cam.set(4, 480) # set video height\n",
    "\n",
    "    minW = 0.1*cam.get(3)\n",
    "    minH = 0.1*cam.get(4)\n",
    "    while True:\n",
    "        ret, img =cam.read()\n",
    "        \n",
    "        k = cv2.waitKey(1) & 0xff \n",
    "        if(k == ord(\"c\")):\n",
    "            cv2.imwrite(\"temp.png\",img)\n",
    "            result = reader.readtext(\"temp.png\",paragraph=\"False\")\n",
    "            \n",
    "            for i in range(len(result)):\n",
    "                out=out+' '+result[i][1]\n",
    "            print(out)\n",
    "        cv2.putText(img, out, (15,430), font, 1, (0,255,0), 2)  \n",
    "        cv2.putText(img, \"Press ok to read text\", (15,35), font, 1, (255,0,0), 2)\n",
    "        cv2.imshow('camera',img) \n",
    "        k = cv2.waitKey(1) & 0xff\n",
    "        if(k == 27):\n",
    "            break\n",
    "\n",
    "    cam.release()\n",
    "    cv2.destroyAllWindows()\n",
    "\n"
   ]
  },
  {
   "cell_type": "code",
   "execution_count": 3,
   "id": "3a1b542c",
   "metadata": {},
   "outputs": [
    {
     "name": "stdout",
     "output_type": "stream",
     "text": [
      " Antd Dikcr MCs-0IC PROGRIP MotospurtGe i Dealite\n",
      " Antd Dikcr MCs-0IC PROGRIP MotospurtGe i Dealite PRODkcR McS 01C Af012 $ 0469207 PRO GRIP MOTOSPORT GELf' Best Dealito\n",
      " Antd Dikcr MCs-0IC PROGRIP MotospurtGe i Dealite PRODkcR McS 01C Af012 $ 0469207 PRO GRIP MOTOSPORT GELf' Best Dealito Pro@KCR MoTOSPORT GCAR GLovES Size TABLE Goves Asmall Small Inchas 641/1 7-712 (18 6.1751 (17s19 Glores Large KL Inchas Oz 7T0.10 12 24-2a (7) Med 8-8 12 L02 AXL RIDING GLOVES SIZING GAUGE\n",
      " Antd Dikcr MCs-0IC PROGRIP MotospurtGe i Dealite PRODkcR McS 01C Af012 $ 0469207 PRO GRIP MOTOSPORT GELf' Best Dealito Pro@KCR MoTOSPORT GCAR GLovES Size TABLE Goves Asmall Small Inchas 641/1 7-712 (18 6.1751 (17s19 Glores Large KL Inchas Oz 7T0.10 12 24-2a (7) Med 8-8 12 L02 AXL RIDING GLOVES SIZING GAUGE pronkcr MOTOSPORT;GCAR GLOVES Size TABLE Gloves Xsmall Small Hne Med\n"
     ]
    }
   ],
   "source": [
    "rec()"
   ]
  },
  {
   "cell_type": "code",
   "execution_count": null,
   "id": "9e5d4083",
   "metadata": {},
   "outputs": [],
   "source": []
  }
 ],
 "metadata": {
  "kernelspec": {
   "display_name": "Python 3 (ipykernel)",
   "language": "python",
   "name": "python3"
  },
  "language_info": {
   "codemirror_mode": {
    "name": "ipython",
    "version": 3
   },
   "file_extension": ".py",
   "mimetype": "text/x-python",
   "name": "python",
   "nbconvert_exporter": "python",
   "pygments_lexer": "ipython3",
   "version": "3.9.13"
  }
 },
 "nbformat": 4,
 "nbformat_minor": 5
}
